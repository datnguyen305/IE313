{
 "cells": [
  {
   "cell_type": "markdown",
   "id": "9cb81e10",
   "metadata": {},
   "source": [
    "# Data Analysis"
   ]
  },
  {
   "cell_type": "markdown",
   "id": "1e5df6cd",
   "metadata": {},
   "source": [
    "## Read data"
   ]
  },
  {
   "cell_type": "markdown",
   "id": "4a5547ea",
   "metadata": {},
   "source": [
    "## Using info()"
   ]
  },
  {
   "cell_type": "markdown",
   "id": "07c1e47b",
   "metadata": {},
   "source": [
    "## Describe()"
   ]
  },
  {
   "cell_type": "markdown",
   "id": "d080f3e1",
   "metadata": {},
   "source": [
    "## Imputing null - using mean(), mode() - Mean for normalized distribution, Mode for skewed distribution"
   ]
  },
  {
   "cell_type": "markdown",
   "id": "6a31254d",
   "metadata": {},
   "source": [
    "# Data Science"
   ]
  },
  {
   "cell_type": "markdown",
   "id": "0704314f",
   "metadata": {},
   "source": [
    "## Standardize - Using z_score"
   ]
  },
  {
   "cell_type": "markdown",
   "id": "908dccc4",
   "metadata": {},
   "source": [
    "## "
   ]
  }
 ],
 "metadata": {
  "kernelspec": {
   "display_name": "Python 3",
   "language": "python",
   "name": "python3"
  },
  "language_info": {
   "name": "python",
   "version": "3.11.7"
  }
 },
 "nbformat": 4,
 "nbformat_minor": 5
}
