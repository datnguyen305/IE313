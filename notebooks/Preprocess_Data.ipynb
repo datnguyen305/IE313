{
 "cells": [
  {
   "cell_type": "markdown",
   "id": "9cb81e10",
   "metadata": {},
   "source": [
    "# Data Analysis"
   ]
  },
  {
   "cell_type": "markdown",
   "id": "1e5df6cd",
   "metadata": {},
   "source": [
    "## Read data"
   ]
  },
  {
   "cell_type": "markdown",
   "id": "4a5547ea",
   "metadata": {},
   "source": [
    "## Using info()"
   ]
  },
  {
   "cell_type": "markdown",
   "id": "07c1e47b",
   "metadata": {},
   "source": [
    "## Describe()"
   ]
  },
  {
   "cell_type": "markdown",
   "id": "d080f3e1",
   "metadata": {},
   "source": [
    "## Imputing null - using mean(), mode() - Mean for normalized distribution, Mode for skewed distribution"
   ]
  },
  {
   "cell_type": "markdown",
   "id": "6a31254d",
   "metadata": {},
   "source": [
    "# Data Science"
   ]
  },
  {
   "cell_type": "markdown",
   "id": "0704314f",
   "metadata": {},
   "source": [
    "## Standardize - Using z_score"
   ]
  },
  {
   "cell_type": "markdown",
   "id": "908dccc4",
   "metadata": {},
   "source": [
    "## "
   ]
  }
 ],
 "metadata": {
  "language_info": {
   "name": "python"
  }
 },
 "nbformat": 4,
 "nbformat_minor": 5
}
